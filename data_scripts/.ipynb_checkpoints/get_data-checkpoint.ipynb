{
 "cells": [
  {
   "cell_type": "code",
   "execution_count": 1,
   "metadata": {},
   "outputs": [],
   "source": [
    "import requests, pandas as pd, numpy as np, io"
   ]
  },
  {
   "cell_type": "code",
   "execution_count": 16,
   "metadata": {},
   "outputs": [],
   "source": [
    "start_year = \"2021\"\n",
    "end_year = \"2023\"\n",
    "start_datetime = \"2021-01-01T00:00:00\"\n",
    "end_datetime = \"2023-12-31T23:59:59\"\n",
    "start_date = \"2021-01-01\"\n",
    "end_date = \"2023-12-31\""
   ]
  },
  {
   "cell_type": "markdown",
   "metadata": {},
   "source": [
    "# Atlanta"
   ]
  },
  {
   "cell_type": "code",
   "execution_count": null,
   "metadata": {},
   "outputs": [],
   "source": [
    "# Atlanta\n",
    "\n",
    "# Manual Downloads\n",
    "# http://opendata.atlantapd.org/Crimedata/Default.aspx\n",
    "\n",
    "\n",
    "# Can't get the aspx scraper to work \n",
    "\n",
    "# from bs4 import BeautifulSoup\n",
    "\n",
    "# url = 'http://opendata.atlantapd.org/Crimedata/Default.aspx'\n",
    "# myobj = {'ctl00$MainContent$rblArea': 'CityWide',\n",
    "#     'ctl00$MainContent$ddlMonth': 1,\n",
    "#     'ctl00$MainContent$ddlYear': 2017,\n",
    "#     'ctl00$MainContent$ddlCrimeType': 'AllCrime',\n",
    "#     'ctl00$MainContent$btnSearch': 'Search'         \n",
    "# }\n",
    "# x = requests.post(url, data = myobj)\n",
    "# soup = BeautifulSoup(x.content, 'html.parser')\n",
    "\n",
    "# myobj = {\n",
    "#     '__EVENTTARGET':None,\n",
    "#     '__EVENTARGUMENT':None,\n",
    "#     '__LASTFOCUS':None,\n",
    "#     '__VIEWSTATE': soup.find(id=\"__VIEWSTATE\")['value'],\n",
    "#     '__VIEWSTATEGENERATOR': soup.find(id=\"__VIEWSTATEGENERATOR\")['value'],\n",
    "#     '__EVENTVALIDATION': soup.find(id=\"__EVENTVALIDATION\")['value'],\n",
    "#     'ctl00$MainContent$rblArea': 'CityWide',\n",
    "#     'ctl00$MainContent$ddlMonth': 1,\n",
    "#     'ctl00$MainContent$ddlYear': 2017,\n",
    "#     'ctl00$MainContent$ddlCrimeType': 'AllCrime',\n",
    "#     'ctl00$MainContent$btnDownload': 'Download CSV'         \n",
    "# }\n",
    "\n",
    "# x = requests.post(url, data = myobj)"
   ]
  },
  {
   "cell_type": "markdown",
   "metadata": {},
   "source": [
    "# Austin"
   ]
  },
  {
   "cell_type": "code",
   "execution_count": 5,
   "metadata": {},
   "outputs": [],
   "source": [
    "# Austin\n",
    "\n",
    "# https://dev.socrata.com/foundry/data.austintexas.gov/fdj4-gpfu\n",
    "url = f'https://data.austintexas.gov/resource/fdj4-gpfu.json?$limit=3000000&$where=occ_date_time%20between%20%27{start_datetime}%27%20and%20%27{end_datetime}%27'\n",
    "r = requests.get(url)\n",
    "j = r.json()\n",
    "raw = pd.DataFrame(j)\n",
    "raw.to_csv('raw_incidents_austin.csv', index=False)"
   ]
  },
  {
   "cell_type": "markdown",
   "metadata": {},
   "source": [
    "# Baltimore"
   ]
  },
  {
   "cell_type": "code",
   "execution_count": 6,
   "metadata": {},
   "outputs": [],
   "source": [
    "# Baltimore\n",
    "# https://data.baltimorecity.gov/datasets/part1-crime-data?geometry=-85.882%2C37.108%2C-72.006%2C40.112\n",
    "r = requests.get(f\"https://services1.arcgis.com/UWYHeuuJISiGmgXx/arcgis/rest/services/Part1_Crime_Beta/FeatureServer/0/query?outFields=*&outSR=4326&f=json&where=CrimeDateTime%20between%20%27{start_datetime}%27%20and%20%27{end_datetime}%27\")\n",
    "j = r.json()\n",
    "features = j.get('features', [])\n",
    "\n",
    "data_list = [feature['attributes'] for feature in features]\n",
    "raw = pd.DataFrame(data_list)\n",
    "raw.to_csv('raw/raw_incidents_baltimore.csv', index=False)"
   ]
  },
  {
   "cell_type": "markdown",
   "metadata": {},
   "source": [
    "# Boston"
   ]
  },
  {
   "cell_type": "code",
   "execution_count": 7,
   "metadata": {},
   "outputs": [
    {
     "name": "stderr",
     "output_type": "stream",
     "text": [
      "/var/folders/gx/s91xl6rj6tb3vfb562_hznsh0000gn/T/ipykernel_59658/2180891152.py:11: DtypeWarning: Columns (0) have mixed types. Specify dtype option on import or set low_memory=False.\n",
      "  raw = pd.read_csv(io.StringIO(s1.decode('utf-8')))\n",
      "/var/folders/gx/s91xl6rj6tb3vfb562_hznsh0000gn/T/ipykernel_59658/2180891152.py:12: DtypeWarning: Columns (0) have mixed types. Specify dtype option on import or set low_memory=False.\n",
      "  raw = pd.concat([raw, pd.read_csv(io.StringIO(s2.decode('utf-8')))], sort=True)\n"
     ]
    }
   ],
   "source": [
    "# Boston\n",
    "# https://data.boston.gov/dataset/crime-incident-reports-august-2015-to-date-source-new-system\n",
    "r1 = requests.get(\"https://data.boston.gov/dataset/6220d948-eae2-4e4b-8723-2dc8e67722a3/resource/f4495ee9-c42c-4019-82c1-d067f07e45d2/download/tmpfap3hfze.csv\") # 2021\n",
    "r2 = requests.get(\"https://data.boston.gov/dataset/6220d948-eae2-4e4b-8723-2dc8e67722a3/resource/313e56df-6d77-49d2-9c49-ee411f10cf58/download/tmpdfeo3qy2.csv\") # 2022\n",
    "r3 = requests.get(\"https://data.boston.gov/dataset/6220d948-eae2-4e4b-8723-2dc8e67722a3/resource/b973d8cb-eeb2-4e7e-99da-c92938efc9c0/download/tmpcz001t1p.csv\") # 2023\n",
    "\n",
    "s1 = r1.content\n",
    "s2 = r2.content\n",
    "s3 = r3.content\n",
    "\n",
    "raw = pd.read_csv(io.StringIO(s1.decode('utf-8')))\n",
    "raw = pd.concat([raw, pd.read_csv(io.StringIO(s2.decode('utf-8')))], sort=True)\n",
    "raw = pd.concat([raw, pd.read_csv(io.StringIO(s3.decode('utf-8')))], sort=True)\n",
    "raw.to_csv('raw/raw_incidents_boston.csv', index=False)"
   ]
  },
  {
   "cell_type": "markdown",
   "metadata": {},
   "source": [
    "# Chicago"
   ]
  },
  {
   "cell_type": "code",
   "execution_count": 8,
   "metadata": {},
   "outputs": [],
   "source": [
    "# Chicago\n",
    "\n",
    "# https://dev.socrata.com/foundry/data.cityofchicago.org/ijzp-q8t2\n",
    "r = requests.get(f\"https://data.cityofchicago.org/resource/crimes.json?$where=date>='{start_datetime}'&$limit=2021000\")\n",
    "j = r.json()\n",
    "raw = pd.DataFrame(j)\n",
    "raw.to_csv('raw/raw_incidents_chicago.csv', index=False)"
   ]
  },
  {
   "cell_type": "markdown",
   "metadata": {},
   "source": [
    "# Cincinnati"
   ]
  },
  {
   "cell_type": "code",
   "execution_count": 9,
   "metadata": {},
   "outputs": [],
   "source": [
    "# Cincinnati\n",
    "\n",
    "# Socrata Open Data API (SODA)\n",
    "# https://data.cincinnati-oh.gov/Safety/PDI-Police-Data-Initiative-Crime-Incidents/k59e-2pvf\n",
    "r = requests.get(f\"https://data.cincinnati-oh.gov/resource/k59e-2pvf.json?$limit=3000000&$where=date_reported>='{start_datetime}'\")\n",
    "j = r.json()\n",
    "raw = pd.DataFrame(j)\n",
    "raw.to_csv('raw/raw_incidents_cincinnati.csv', index=False)"
   ]
  },
  {
   "cell_type": "markdown",
   "metadata": {},
   "source": [
    "# Dallas"
   ]
  },
  {
   "cell_type": "code",
   "execution_count": 10,
   "metadata": {},
   "outputs": [],
   "source": [
    "# Dallas\n",
    "\n",
    "# https://www.dallasopendata.com/Public-Safety/Police-Incidents/qv6i-rri7\n",
    "r = requests.get(f\"https://www.dallasopendata.com/resource/qv6i-rri7.json?$where=servyr>={start_year}&$limit=3000000\")\n",
    "j = r.json()\n",
    "raw = pd.DataFrame(j)\n",
    "raw.to_csv('raw/raw_incidents_dallas.csv', index=False)"
   ]
  },
  {
   "cell_type": "markdown",
   "metadata": {},
   "source": [
    "# Detroit"
   ]
  },
  {
   "cell_type": "code",
   "execution_count": 11,
   "metadata": {},
   "outputs": [],
   "source": [
    "# Detroit\n",
    "# https://data.detroitmi.gov/datasets/rms-crime-incidents\n",
    "r = requests.get(f\"https://opengis.detroitmi.gov/opengis/rest/services/PublicSafety/RMS_Crime_Incidents/FeatureServer/0/query?outFields=*&where=year>={start_year}&f=json\")\n",
    "j = r.json()\n",
    "features = j.get('features', [])\n",
    "\n",
    "data_list = [feature['attributes'] for feature in features]\n",
    "\n",
    "# Create the DataFrame\n",
    "raw = pd.DataFrame(data_list)\n",
    "raw.to_csv('raw/raw_incidents_detroit.csv', index=False)"
   ]
  },
  {
   "cell_type": "markdown",
   "metadata": {},
   "source": [
    "# Fort Worth"
   ]
  },
  {
   "cell_type": "code",
   "execution_count": 12,
   "metadata": {},
   "outputs": [],
   "source": [
    "# Fort Worth\n",
    "\n",
    "# https://data.fortworthtexas.gov/Public-Safety/Crime-Data/k6ic-7kp7\n",
    "r = requests.get(f\"https://data.fortworthtexas.gov/resource/k6ic-7kp7.json?$where=from_date>='{start_datetime}'&$limit=3000000\")\n",
    "j = r.json()\n",
    "raw = pd.DataFrame(j)\n",
    "raw.to_csv('raw/raw_incidents_fort_worth.csv', index=False)"
   ]
  },
  {
   "cell_type": "markdown",
   "metadata": {},
   "source": [
    "# Los Angeles"
   ]
  },
  {
   "cell_type": "code",
   "execution_count": 13,
   "metadata": {},
   "outputs": [],
   "source": [
    "# Los Angeles\n",
    "\n",
    "# 2020\n",
    "# https://dev.socrata.com/foundry/data.lacity.org/2nrs-mtv8\n",
    "r = requests.get(f'https://data.lacity.org/resource/2nrs-mtv8.json?$where=date_occ>\"{start_datetime}\"&$limit=3000000')\n",
    "j = r.json()\n",
    "raw = pd.DataFrame(j)\n",
    "\n",
    "# # 2010 - 2019\n",
    "# # https://dev.socrata.com/foundry/data.lacity.org/63jg-8b9z\n",
    "# r2 = requests.get('https://data.lacity.org/resource/63jg-8b9z.json?$where=date_occ>\"2017-01-01T00:00:00.000\"&$limit=3000000')\n",
    "# j2 = r2.json()\n",
    "# df2 = pd.DataFrame(j2)\n",
    "\n",
    "# raw = pd.concat([df1, df2], sort=True)\n",
    "raw.to_csv('raw/raw_incidents_los_angeles.csv', index=False)"
   ]
  },
  {
   "cell_type": "markdown",
   "metadata": {},
   "source": [
    "# Miami"
   ]
  },
  {
   "cell_type": "code",
   "execution_count": null,
   "metadata": {},
   "outputs": [],
   "source": []
  },
  {
   "cell_type": "markdown",
   "metadata": {},
   "source": [
    "# Milwaukee"
   ]
  },
  {
   "cell_type": "code",
   "execution_count": 14,
   "metadata": {},
   "outputs": [
    {
     "name": "stderr",
     "output_type": "stream",
     "text": [
      "/var/folders/gx/s91xl6rj6tb3vfb562_hznsh0000gn/T/ipykernel_59658/1123314639.py:13: DtypeWarning: Columns (0) have mixed types. Specify dtype option on import or set low_memory=False.\n",
      "  raw = pd.concat([pd.read_csv(io.StringIO(s1.decode('utf-8'))), pd.read_csv(io.StringIO(s2.decode('utf-8')))], sort=True)\n"
     ]
    }
   ],
   "source": [
    "# Milwaukee\n",
    "\n",
    "# Historical\n",
    "# https://data.milwaukee.gov/dataset/wibrarchive\n",
    "r1 = requests.get(\"https://data.milwaukee.gov/dataset/5a537f5c-10d7-40a2-9b93-3527a4c89fbd/resource/395db729-a30a-4e53-ab66-faeb5e1899c8/download/wibrarchive.csv\")\n",
    "s1 = r1.content\n",
    "\n",
    "# Current\n",
    "# https://data.milwaukee.gov/dataset/wibr \n",
    "r2 = requests.get(\"https://data.milwaukee.gov/dataset/e5feaad3-ee73-418c-b65d-ef810c199390/resource/87843297-a6fa-46d4-ba5d-cb342fb2d3bb/download/wibr.csv\")\n",
    "s2 = r2.content\n",
    "\n",
    "raw = pd.concat([pd.read_csv(io.StringIO(s1.decode('utf-8'))), pd.read_csv(io.StringIO(s2.decode('utf-8')))], sort=True)\n",
    "raw['ReportedDateTime'] = pd.to_datetime(raw['ReportedDateTime']) \n",
    "filtered_data = raw[(raw['ReportedDateTime'].dt.year >= int(start_year)) & (raw['ReportedDateTime'].dt.year <= int(end_year))]\n",
    "filtered_data.to_csv('raw/raw_incidents_milwaukee.csv', index=False)"
   ]
  },
  {
   "cell_type": "markdown",
   "metadata": {},
   "source": [
    "# New York City"
   ]
  },
  {
   "cell_type": "code",
   "execution_count": 15,
   "metadata": {},
   "outputs": [],
   "source": [
    "# New York City\n",
    "\n",
    "# 2020\n",
    "# https://dev.socrata.com/foundry/data.cityofnewyork.us/5uac-w243\n",
    "r1 = requests.get(f'https://data.cityofnewyork.us/resource/5uac-w243.json?$where=cmplnt_fr_dt>\"{start_datetime}\"&$limit=3000000')\n",
    "j1 = r1.json()\n",
    "raw = pd.DataFrame(j1)\n",
    "# raw = df1.drop(\n",
    "#     [':@computed_region_92fq_4b7q',\n",
    "#      ':@computed_region_efsh_h5xi',\n",
    "#      ':@computed_region_f5dn_yrer',\n",
    "#      ':@computed_region_sbqj_enih',\n",
    "#      ':@computed_region_yeji_bk3q'], axis=1)\n",
    "\n",
    "# # 2006 - 2019\n",
    "# # https://dev.socrata.com/foundry/data.cityofnewyork.us/qgea-i56i\n",
    "# r2 = requests.get('https://data.cityofnewyork.us/resource/qgea-i56i.json?$where=cmplnt_fr_dt>\"2017-01-01T00:00:00.000\"&$limit=3000000')\n",
    "# j2 = r2.json()\n",
    "# df2 = pd.DataFrame(j2)\n",
    "# df2 = df2.drop(['transit_district','station_name'], axis=1)\n",
    "\n",
    "# raw = pd.concat([df1, df2], sort=True)\n",
    "raw.to_csv('raw/raw_incidents_new_york_city.csv', index=False)"
   ]
  },
  {
   "cell_type": "markdown",
   "metadata": {},
   "source": [
    "# Philadelphia"
   ]
  },
  {
   "cell_type": "code",
   "execution_count": 17,
   "metadata": {},
   "outputs": [],
   "source": [
    "# Philadelphia Raw Incidents\n",
    "# https://www.opendataphilly.org/dataset/crime-incidents\n",
    "r = requests.get(f\"https://phl.carto.com/api/v2/sql?q=SELECT * FROM incidents_part1_part2 WHERE dispatch_date BETWEEN '{start_date}' AND '{end_date}'\")\n",
    "j = r.json()\n",
    "raw = pd.DataFrame(j['rows'])\n",
    "\n",
    "raw.to_csv('raw/raw_incidents_philadelphia.csv', index=False)"
   ]
  },
  {
   "cell_type": "markdown",
   "metadata": {},
   "source": [
    "# Phoenix"
   ]
  },
  {
   "cell_type": "code",
   "execution_count": 18,
   "metadata": {
    "scrolled": true
   },
   "outputs": [
    {
     "name": "stderr",
     "output_type": "stream",
     "text": [
      "/var/folders/gx/s91xl6rj6tb3vfb562_hznsh0000gn/T/ipykernel_59658/4076292194.py:9: DtypeWarning: Columns (0) have mixed types. Specify dtype option on import or set low_memory=False.\n",
      "  raw = pd.read_csv(io.StringIO(s.decode('utf-8')))\n"
     ]
    }
   ],
   "source": [
    "import io\n",
    "\n",
    "# Phoenix\n",
    "\n",
    "# https://www.phoenixopendata.com/dataset/crime-data/resource/0ce3411a-2fc6-4302-a33f-167f68608a20\n",
    "url = '\thttps://www.phoenixopendata.com/dataset/cc08aace-9ca9-467f-b6c1-f0879ab1a358/resource/0ce3411a-2fc6-4302-a33f-167f68608a20/download/crime-data_crime-data_crimestat.csv'\n",
    "r = requests.get(url)\n",
    "s = r.content\n",
    "raw = pd.read_csv(io.StringIO(s.decode('utf-8')))\n",
    "raw['OCCURRED ON'] = pd.to_datetime(raw['OCCURRED ON']) \n",
    "filtered_data = raw[(raw['OCCURRED ON'].dt.year >= int(start_year)) & (raw['OCCURRED ON'].dt.year <= int(end_year))]\n",
    "filtered_data.to_csv('raw/raw_incidents_phoenix.csv', index=False)"
   ]
  },
  {
   "cell_type": "markdown",
   "metadata": {},
   "source": [
    "# Portland\n"
   ]
  },
  {
   "cell_type": "code",
   "execution_count": 126,
   "metadata": {},
   "outputs": [],
   "source": [
    "# Manual"
   ]
  },
  {
   "cell_type": "markdown",
   "metadata": {},
   "source": [
    "# San Francisco"
   ]
  },
  {
   "cell_type": "code",
   "execution_count": 19,
   "metadata": {},
   "outputs": [],
   "source": [
    "# San Francisco\n",
    "\n",
    "# Socrata Open Data API (SODA)\n",
    "# https://data.sfgov.org/Public-Safety/Police-Department-Incident-Reports-2018-to-Present/wg3w-h783\n",
    "r = requests.get(f\"https://data.sfgov.org/resource/wg3w-h783.json?$limit=3000000&$where=incident_date%20between%20%27{start_date}%27%20and%20%27{end_date}%27\")\n",
    "j = r.json()\n",
    "raw = pd.DataFrame(j)\n",
    "raw.to_csv('raw/raw_incidents_san_francisco.csv', index=False)"
   ]
  },
  {
   "cell_type": "markdown",
   "metadata": {},
   "source": [
    "# Seattle"
   ]
  },
  {
   "cell_type": "code",
   "execution_count": 20,
   "metadata": {},
   "outputs": [],
   "source": [
    "# Seattle\n",
    "\n",
    "# https://data.seattle.gov/Public-Safety/SPD-Crime-Data-2008-Present/tazs-3rd5\n",
    "r = requests.get(f\"https://data.seattle.gov/resource/tazs-3rd5.json?$limit=3000000&$where=offense_start_datetime%20between%20%27{start_datetime}%27%20and%20%27{end_datetime}%27\")\n",
    "j = r.json()\n",
    "raw = pd.DataFrame(j)\n",
    "raw.to_csv('raw/raw_incidents_seattle.csv', index=False)"
   ]
  },
  {
   "cell_type": "markdown",
   "metadata": {},
   "source": [
    "# Washington DC"
   ]
  },
  {
   "cell_type": "code",
   "execution_count": 21,
   "metadata": {},
   "outputs": [],
   "source": [
    "# DC\n",
    "# https://opendata.dc.gov/datasets/crime-incidents-in-2021\n",
    "# https://opendata.dc.gov/datasets/crime-incidents-in-2022\n",
    "# https://opendata.dc.gov/datasets/crime-incidents-in-2023\n",
    "r1 = requests.get(\"https://maps2.dcgis.dc.gov/dcgis/rest/services/FEEDS/MPD/MapServer/3/query?where=1%3D1&outFields=*&outSR=4326&f=json\") # 2021\n",
    "r2 = requests.get(\"https://maps2.dcgis.dc.gov/dcgis/rest/services/FEEDS/MPD/MapServer/4/query?where=1%3D1&outFields=*&outSR=4326&f=json\") # 2022\n",
    "r3 = requests.get(\"https://maps2.dcgis.dc.gov/dcgis/rest/services/FEEDS/MPD/MapServer/5/query?where=1%3D1&outFields=*&outSR=4326&f=json\") # 2023\n",
    "r4 = requests.get(\"https://maps2.dcgis.dc.gov/dcgis/rest/services/FEEDS/MPD/MapServer/6/query?where=1%3D1&outFields=*&outSR=4326&f=json\") # 2024\n",
    "\n",
    "j1 = r1.json()\n",
    "j2 = r2.json()\n",
    "j3 = r3.json()\n",
    "j4 = r4.json()\n",
    "\n",
    "features1 = j1.get('features', [])\n",
    "features2 = j2.get('features', [])\n",
    "features3 = j3.get('features', [])\n",
    "features4 = j4.get('features', [])\n",
    "\n",
    "data_list1 = [feature['attributes'] for feature in features1]\n",
    "data_list2 = [feature['attributes'] for feature in features2]\n",
    "data_list3 = [feature['attributes'] for feature in features3]\n",
    "data_list4 = [feature['attributes'] for feature in features4]\n",
    "\n",
    "\n",
    "# Create the DataFrame\n",
    "raw = pd.DataFrame(data_list)\n",
    "\n",
    "raw = pd.DataFrame(data_list1)\n",
    "raw = pd.concat([raw, pd.DataFrame(data_list2)], sort=True)\n",
    "raw = pd.concat([raw, pd.DataFrame(data_list3)], sort=True)\n",
    "raw = pd.concat([raw, pd.DataFrame(data_list4)], sort=True)\n",
    "\n",
    "raw.to_csv('raw/raw_incidents_washington_dc.csv', index=False)"
   ]
  },
  {
   "cell_type": "markdown",
   "metadata": {},
   "source": [
    "# Houston"
   ]
  },
  {
   "cell_type": "code",
   "execution_count": null,
   "metadata": {},
   "outputs": [],
   "source": [
    "# Manual"
   ]
  },
  {
   "cell_type": "markdown",
   "metadata": {},
   "source": [
    "# Denver"
   ]
  },
  {
   "cell_type": "code",
   "execution_count": 22,
   "metadata": {},
   "outputs": [],
   "source": [
    "r = requests.get(\"https://www.denvergov.org/media/gis/DataCatalog/crime/csv/crime.csv\")\n",
    "s = r.content\n",
    "raw = pd.read_csv(io.StringIO(s.decode('ISO-8859-1')))\n",
    "raw['reported_date'] = pd.to_datetime(raw['reported_date']) \n",
    "filtered_data = raw[(raw['reported_date'].dt.year >= int(start_year)) & (raw['reported_date'].dt.year <= int(end_year))]\n",
    "filtered_data.to_csv('raw/raw_incidents_denver.csv', index=False)"
   ]
  },
  {
   "cell_type": "markdown",
   "metadata": {},
   "source": [
    "# Nashville"
   ]
  },
  {
   "cell_type": "code",
   "execution_count": 23,
   "metadata": {},
   "outputs": [],
   "source": [
    "# Nashville\n",
    "\n",
    "# https://data.nashville.gov/Police/Metro-Nashville-Police-Department-Incidents/2u6v-ujjs\n",
    "r = requests.get(f'https://data.nashville.gov/resource/2u6v-ujjs.json?$where=incident_occurred>=\"{start_datetime}\"&$limit=3000000')\n",
    "j = r.json()\n",
    "raw = pd.DataFrame(j)\n",
    "raw.to_csv('raw/raw_incidents_nashville.csv', index=False)"
   ]
  },
  {
   "cell_type": "markdown",
   "metadata": {},
   "source": [
    "# Louisville"
   ]
  },
  {
   "cell_type": "code",
   "execution_count": 24,
   "metadata": {},
   "outputs": [],
   "source": [
    "# Louisville\n",
    "r1 = requests.get(\"https://services1.arcgis.com/79kfd2K6fskCAkyg/arcgis/rest/services/Louisville_Metro_KY_Crime_Data_2021/FeatureServer/0/query?where=1%3D1&outFields=*&outSR=4326&f=json&limit=3000000\") # 2021\n",
    "r2 = requests.get(\"https://services1.arcgis.com/79kfd2K6fskCAkyg/arcgis/rest/services/Louisville_Metro_KY_Crime_Data_2022/FeatureServer/0/query?where=1%3D1&outFields=*&outSR=4326&f=json&limit=3000000\") # 2022\n",
    "r3 = requests.get(\"https://services1.arcgis.com/79kfd2K6fskCAkyg/arcgis/rest/services/2023CrimeData_OpenData/FeatureServer/0/query?where=1%3D1&outFields=*&outSR=4326&f=json&limit=3000000\") # 2023\n",
    "\n",
    "j1 = r1.json()\n",
    "j2 = r2.json()\n",
    "j3 = r3.json()\n",
    "\n",
    "features1 = j1.get('features', [])\n",
    "features2 = j2.get('features', [])\n",
    "features3 = j3.get('features', [])\n",
    "\n",
    "data_list1 = [feature['attributes'] for feature in features1]\n",
    "data_list2 = [feature['attributes'] for feature in features2]\n",
    "data_list3 = [feature['attributes'] for feature in features3]\n",
    "\n",
    "\n",
    "# Create the DataFrame\n",
    "raw = pd.DataFrame(data_list1)\n",
    "raw = pd.concat([raw, pd.DataFrame(data_list2)], sort=True)\n",
    "raw = pd.concat([raw, pd.DataFrame(data_list3)], sort=True)\n",
    "raw.to_csv('raw/raw_incidents_louisville.csv', index=False)"
   ]
  },
  {
   "cell_type": "markdown",
   "metadata": {},
   "source": [
    "# Sacramento"
   ]
  },
  {
   "cell_type": "code",
   "execution_count": null,
   "metadata": {},
   "outputs": [],
   "source": [
    "# Sacramento\n",
    "\n",
    "raw = pd.DataFrame()\n",
    "\n",
    "# Sacramento Crime Data From Current Year (2021)\n",
    "# r = requests.get('https://opendata.arcgis.com/datasets/64279ca193a54189aa9214a29d32520c_0.csv')\n",
    "# s = r.content\n",
    "# raw = pd.read_csv(io.StringIO(s.decode('utf-8')))\n",
    "\n",
    "# Sacramento Crime Data From One Year Ago\n",
    "r = requests.get('https://opendata.arcgis.com/datasets/0026878c24454e16b169b3fb26130751_0.csv')\n",
    "s = r.content\n",
    "df = pd.read_csv(io.StringIO(s.decode('utf-8'))).drop('OBJECTID', axis=1)\n",
    "raw = pd.concat([raw, df])\n",
    "\n",
    "# Sacramento Crime Data From Two Years Ago\n",
    "r = requests.get('https://opendata.arcgis.com/datasets/84e4483fc0624d678d7608a4fa12aae1_0.csv')\n",
    "s = r.content\n",
    "df = pd.read_csv(io.StringIO(s.decode('utf-8'))).drop('OBJECTID', axis=1)\n",
    "raw = pd.concat([raw, df])\n",
    "\n",
    "# Sacramento Crime Data 2018\n",
    "r = requests.get('https://opendata.arcgis.com/datasets/f0c9b9d72ca94b029b43bda37561ce41_0.csv')\n",
    "s = r.content\n",
    "df = pd.read_csv(io.StringIO(s.decode('utf-8'))).drop('ObjectId', axis=1)\n",
    "\n",
    "raw = pd.concat([raw, df])\n",
    "\n",
    "raw.to_csv('raw/raw_incidents_sacramento.csv', index=False)"
   ]
  },
  {
   "cell_type": "markdown",
   "metadata": {},
   "source": [
    "# Kansas City"
   ]
  },
  {
   "cell_type": "code",
   "execution_count": 25,
   "metadata": {},
   "outputs": [],
   "source": [
    "# Kansas City\n",
    "\n",
    "# Socrata Open Data API (SODA)\n",
    "\n",
    "# 2021\n",
    "# https://data.kcmo.org/browse?category=Crime\n",
    "r = requests.get(\"https://data.kcmo.org/resource/w795-ffu6.json?$limit=3000000\")\n",
    "j = r.json()\n",
    "df = pd.DataFrame(j)\n",
    "\n",
    "# 2022\n",
    "r2 = requests.get(\"https://data.kcmo.org/resource/x39y-7d3m.json?$limit=3000000\")\n",
    "j2 = r2.json()\n",
    "df2 = pd.DataFrame(j2)\n",
    "\n",
    "# 2023\n",
    "r3 = requests.get(\"https://data.kcmo.org/resource/bfyq-5nh6.json?$limit=3000000\")\n",
    "j3 = r3.json()\n",
    "df3 = pd.DataFrame(j3)\n",
    "\n",
    "# 2024\n",
    "r4 = requests.get(\"https://data.kcmo.org/resource/isbe-v4d8.json?$limit=3000000\")\n",
    "j4 = r4.json()\n",
    "df4 = pd.DataFrame(j4)\n",
    "\n",
    "raw = pd.DataFrame()\n",
    "raw = pd.concat([raw, df])\n",
    "raw = pd.concat([raw, df2])\n",
    "raw = pd.concat([raw, df3])\n",
    "raw = pd.concat([raw, df4])\n",
    "raw.to_csv('raw/raw_incidents_kansas_city.csv', index=False)"
   ]
  },
  {
   "cell_type": "markdown",
   "metadata": {},
   "source": [
    "# Arlington"
   ]
  },
  {
   "cell_type": "code",
   "execution_count": 17,
   "metadata": {},
   "outputs": [],
   "source": [
    "# Poor data quality"
   ]
  },
  {
   "cell_type": "code",
   "execution_count": 10,
   "metadata": {},
   "outputs": [],
   "source": [
    "# r = requests.get(\"https://datahub-v2.arlingtonva.us/api/Police/IncidentLog?$top=100000\")\n",
    "# j = r.json()\n",
    "# raw = pd.DataFrame(j)\n",
    "# raw.to_csv('raw/raw_incidents_arlington.csv', index=False)"
   ]
  },
  {
   "cell_type": "markdown",
   "metadata": {},
   "source": [
    "# Raleigh"
   ]
  },
  {
   "cell_type": "code",
   "execution_count": 26,
   "metadata": {},
   "outputs": [],
   "source": [
    "# Raleigh\n",
    "r = requests.get(\"https://opendata.arcgis.com/datasets/24c0b37fa9bb4e16ba8bcaa7e806c615_0.csv\")\n",
    "s = r.content\n",
    "raw = pd.read_csv(io.StringIO(s.decode('utf-8')))\n",
    "raw['reported_date'] = pd.to_datetime(raw['reported_date']) \n",
    "filtered_data = raw[(raw['reported_date'].dt.year >= int(start_year)) & (raw['reported_date'].dt.year <= int(end_year))]\n",
    "filtered_data.to_csv('raw/raw_incidents_raleigh.csv', index=False)"
   ]
  },
  {
   "cell_type": "markdown",
   "metadata": {},
   "source": [
    "# Buffalo"
   ]
  },
  {
   "cell_type": "code",
   "execution_count": 27,
   "metadata": {},
   "outputs": [],
   "source": [
    "# Buffalo\n",
    "\n",
    "# https://data.buffalony.gov/Public-Safety/Crime-Incidents/d6g9-xbgu\n",
    "r = requests.get(f'https://data.buffalony.gov/resource/d6g9-xbgu.json?$limit=3000000&$where=incident_datetime%20between%20%27{start_datetime}%27%20and%20%27{end_datetime}%27')\n",
    "j = r.json()\n",
    "raw = pd.DataFrame(j)\n",
    "raw.to_csv('raw/raw_incidents_buffalo.csv', index=False)"
   ]
  },
  {
   "cell_type": "markdown",
   "metadata": {},
   "source": [
    "# Virginia Beach"
   ]
  },
  {
   "cell_type": "code",
   "execution_count": 40,
   "metadata": {},
   "outputs": [],
   "source": [
    "r = requests.get(f\"https://services2.arcgis.com/CyVvlIiUfRBmMQuu/arcgis/rest/services/Police_Incident_Reports_view/FeatureServer/0/query?where=1%3D1&outFields=*&outSR=4326&f=json&$where=Date_Occurred%20between%20%27{start_datetime}%27%20and%20%27{end_datetime}%27\")\n",
    "\n",
    "j = r.json()\n",
    "features = j.get('features', [])\n",
    "\n",
    "data_list = [feature['attributes'] for feature in features]\n",
    "raw = pd.DataFrame(data_list)\n",
    "raw.to_csv('raw/raw_incidents_virginia_beach.csv', index=False)"
   ]
  },
  {
   "cell_type": "markdown",
   "metadata": {},
   "source": [
    "# Little Rock"
   ]
  },
  {
   "cell_type": "code",
   "execution_count": 42,
   "metadata": {},
   "outputs": [],
   "source": [
    "# Little Rock\n",
    "\n",
    "# https://data.littlerock.gov/Safe-City/Little-Rock-Police-Department-Statistics-2017-to-Y/bz82-34ep\n",
    "r = requests.get(f'https://data.littlerock.gov/resource/bz82-34ep.json?$limit=3000000&$where=incident_date%20between%20%27{start_date}%27%20and%20%27{end_date}%27')\n",
    "j = r.json()\n",
    "raw = pd.DataFrame(j)\n",
    "raw.to_csv('raw/raw_incidents_little_rock.csv', index=False)"
   ]
  },
  {
   "cell_type": "code",
   "execution_count": null,
   "metadata": {},
   "outputs": [],
   "source": []
  },
  {
   "cell_type": "code",
   "execution_count": null,
   "metadata": {},
   "outputs": [],
   "source": []
  },
  {
   "cell_type": "code",
   "execution_count": 18,
   "metadata": {},
   "outputs": [],
   "source": [
    "pd.DataFrame(raw['offense_description'].unique()).to_csv('test.csv')"
   ]
  },
  {
   "cell_type": "code",
   "execution_count": 14,
   "metadata": {},
   "outputs": [
    {
     "data": {
      "text/plain": [
       "array(['2020-09-30 14:05:00', '2016-08-01 00:01:00',\n",
       "       '2014-05-13 12:15:00', ..., '2021-04-30 14:00:00',\n",
       "       '2020-11-29 19:24:00', '2020-06-15 03:30:00'], dtype=object)"
      ]
     },
     "execution_count": 14,
     "metadata": {},
     "output_type": "execute_result"
    }
   ],
   "source": [
    "incident_date"
   ]
  },
  {
   "cell_type": "code",
   "execution_count": null,
   "metadata": {},
   "outputs": [],
   "source": []
  },
  {
   "cell_type": "code",
   "execution_count": null,
   "metadata": {},
   "outputs": [],
   "source": []
  }
 ],
 "metadata": {
  "kernelspec": {
   "display_name": "Python 3 (ipykernel)",
   "language": "python",
   "name": "python3"
  },
  "language_info": {
   "codemirror_mode": {
    "name": "ipython",
    "version": 3
   },
   "file_extension": ".py",
   "mimetype": "text/x-python",
   "name": "python",
   "nbconvert_exporter": "python",
   "pygments_lexer": "ipython3",
   "version": "3.9.12"
  }
 },
 "nbformat": 4,
 "nbformat_minor": 4
}
