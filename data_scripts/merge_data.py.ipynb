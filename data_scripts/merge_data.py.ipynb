{
 "cells": [
  {
   "cell_type": "code",
   "execution_count": 1,
   "metadata": {},
   "outputs": [],
   "source": [
    "import pandas as pd"
   ]
  },
  {
   "cell_type": "markdown",
   "metadata": {},
   "source": [
    "# Merge all standardized citites"
   ]
  },
  {
   "cell_type": "code",
   "execution_count": 12,
   "metadata": {},
   "outputs": [],
   "source": [
    "cities = ['atlanta', 'austin', 'baltimore', 'boston', 'chicago', 'cincinnati',\n",
    "          'dallas', 'detroit', 'fort_worth', 'los_angeles', 'new_york_city',\n",
    "          'philadelphia', 'phoenix', 'san_francisco', 'seattle', 'washington_dc', \n",
    "          'milwaukee', 'portland', 'denver', 'houston', 'nashville', \n",
    "          'louisville', 'kansas_city', 'raleigh', 'buffalo', 'virginia_beach', 'little_rock']"
   ]
  },
  {
   "cell_type": "code",
   "execution_count": 13,
   "metadata": {},
   "outputs": [
    {
     "name": "stdout",
     "output_type": "stream",
     "text": [
      "atlanta 104852\n",
      "austin 174495\n",
      "baltimore 1852\n",
      "boston 82556\n",
      "chicago 631353\n",
      "cincinnati 82732\n",
      "dallas 291492\n",
      "detroit 1691\n",
      "fort_worth 140658\n",
      "los_angeles 628356\n",
      "new_york_city 364115\n",
      "philadelphia 399317\n",
      "phoenix 182594\n",
      "san_francisco 276129\n",
      "seattle 207461\n",
      "washington_dc 2985\n",
      "milwaukee 124389\n",
      "portland 184871\n",
      "denver 163594\n",
      "houston 450931\n",
      "nashville 220086\n",
      "louisville 1517\n",
      "kansas_city 149725\n",
      "raleigh 98105\n",
      "buffalo 36526\n",
      "virginia_beach 1481\n",
      "little_rock 44021\n"
     ]
    }
   ],
   "source": [
    "final = pd.DataFrame()\n",
    "for city in cities: \n",
    "    tmp = pd.read_csv('standardized/standardized_incidents_' + city + '.csv', index_col=None, dtype=str)\n",
    "    print(city, len(tmp))\n",
    "    final = pd.concat([final, tmp])"
   ]
  },
  {
   "cell_type": "code",
   "execution_count": 14,
   "metadata": {},
   "outputs": [],
   "source": [
    "final = final[(final['std_date'] >= '2021-01-01') & (final['std_date'] <= '2023-12-31')]"
   ]
  },
  {
   "cell_type": "code",
   "execution_count": 15,
   "metadata": {},
   "outputs": [
    {
     "name": "stdout",
     "output_type": "stream",
     "text": [
      "Final Shape: (5047884, 5)\n"
     ]
    }
   ],
   "source": [
    "print(\"Final Shape:\", final.shape)\n",
    "final.to_csv('final/final_incidents_2023.csv', index=False)"
   ]
  },
  {
   "cell_type": "code",
   "execution_count": 16,
   "metadata": {},
   "outputs": [
    {
     "data": {
      "text/html": [
       "<div>\n",
       "<style scoped>\n",
       "    .dataframe tbody tr th:only-of-type {\n",
       "        vertical-align: middle;\n",
       "    }\n",
       "\n",
       "    .dataframe tbody tr th {\n",
       "        vertical-align: top;\n",
       "    }\n",
       "\n",
       "    .dataframe thead th {\n",
       "        text-align: right;\n",
       "    }\n",
       "</style>\n",
       "<table border=\"1\" class=\"dataframe\">\n",
       "  <thead>\n",
       "    <tr style=\"text-align: right;\">\n",
       "      <th></th>\n",
       "      <th>std_date</th>\n",
       "      <th>city</th>\n",
       "      <th>category_1</th>\n",
       "      <th>category_2</th>\n",
       "      <th>category_3</th>\n",
       "    </tr>\n",
       "  </thead>\n",
       "  <tbody>\n",
       "    <tr>\n",
       "      <th>0</th>\n",
       "      <td>2021-12-31</td>\n",
       "      <td>Atlanta</td>\n",
       "      <td>Drug</td>\n",
       "      <td>Drug</td>\n",
       "      <td>Drug</td>\n",
       "    </tr>\n",
       "    <tr>\n",
       "      <th>1</th>\n",
       "      <td>2021-06-24</td>\n",
       "      <td>Atlanta</td>\n",
       "      <td>Drug</td>\n",
       "      <td>Drug</td>\n",
       "      <td>Drug</td>\n",
       "    </tr>\n",
       "    <tr>\n",
       "      <th>2</th>\n",
       "      <td>2021-04-07</td>\n",
       "      <td>Atlanta</td>\n",
       "      <td>Drug</td>\n",
       "      <td>Drug</td>\n",
       "      <td>Drug</td>\n",
       "    </tr>\n",
       "    <tr>\n",
       "      <th>3</th>\n",
       "      <td>2021-01-01</td>\n",
       "      <td>Atlanta</td>\n",
       "      <td>Drug</td>\n",
       "      <td>Drug</td>\n",
       "      <td>Drug</td>\n",
       "    </tr>\n",
       "    <tr>\n",
       "      <th>4</th>\n",
       "      <td>2021-01-01</td>\n",
       "      <td>Atlanta</td>\n",
       "      <td>Drug</td>\n",
       "      <td>Drug</td>\n",
       "      <td>Drug</td>\n",
       "    </tr>\n",
       "  </tbody>\n",
       "</table>\n",
       "</div>"
      ],
      "text/plain": [
       "     std_date     city category_1 category_2 category_3\n",
       "0  2021-12-31  Atlanta       Drug       Drug       Drug\n",
       "1  2021-06-24  Atlanta       Drug       Drug       Drug\n",
       "2  2021-04-07  Atlanta       Drug       Drug       Drug\n",
       "3  2021-01-01  Atlanta       Drug       Drug       Drug\n",
       "4  2021-01-01  Atlanta       Drug       Drug       Drug"
      ]
     },
     "execution_count": 16,
     "metadata": {},
     "output_type": "execute_result"
    }
   ],
   "source": [
    "final.head()"
   ]
  },
  {
   "cell_type": "code",
   "execution_count": null,
   "metadata": {},
   "outputs": [],
   "source": []
  }
 ],
 "metadata": {
  "kernelspec": {
   "display_name": "Python 3 (ipykernel)",
   "language": "python",
   "name": "python3"
  },
  "language_info": {
   "codemirror_mode": {
    "name": "ipython",
    "version": 3
   },
   "file_extension": ".py",
   "mimetype": "text/x-python",
   "name": "python",
   "nbconvert_exporter": "python",
   "pygments_lexer": "ipython3",
   "version": "3.9.12"
  }
 },
 "nbformat": 4,
 "nbformat_minor": 4
}
